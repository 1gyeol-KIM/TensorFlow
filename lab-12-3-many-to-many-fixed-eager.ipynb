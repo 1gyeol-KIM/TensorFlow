{
 "cells": [
  {
   "cell_type": "markdown",
   "metadata": {},
   "source": [
    "# Lab 12-3 many to many fixed\n",
    "### hihello training \n",
    "* many to many\n",
    "* fixed input sequence length"
   ]
  },
  {
   "cell_type": "code",
   "execution_count": 1,
   "metadata": {},
   "outputs": [
    {
     "name": "stdout",
     "output_type": "stream",
     "text": [
      "1.12.0\n"
     ]
    }
   ],
   "source": [
    "import numpy as np\n",
    "import tensorflow as tf\n",
    "from tensorflow import keras\n",
    "from tensorflow.keras.utils import to_categorical\n",
    "from pprint import pprint\n",
    "\n",
    "print(tf.__version__)\n",
    "tf.enable_eager_execution()"
   ]
  },
  {
   "cell_type": "markdown",
   "metadata": {},
   "source": [
    "### Prepairing dataset\n",
    "hih -> ihe, ihe -> hel, hel -> ell, ell -> llo"
   ]
  },
  {
   "cell_type": "code",
   "execution_count": 2,
   "metadata": {},
   "outputs": [],
   "source": [
    "strings = 'hihello'\n",
    "char_set = sorted(list(set('hihello' + 'hello')))\n",
    "idx2char = {idx : char for idx, char in enumerate(char_set)}\n",
    "char2idx = {char : idx for idx, char in enumerate(char_set)}"
   ]
  },
  {
   "cell_type": "code",
   "execution_count": 3,
   "metadata": {},
   "outputs": [
    {
     "name": "stdout",
     "output_type": "stream",
     "text": [
      "['hih', 'ihe', 'hel', 'ell'] ['ihe', 'hel', 'ell', 'llo']\n"
     ]
    }
   ],
   "source": [
    "data = []\n",
    "for i in range(len(strings) -2):\n",
    "    data.append(strings[i:i+3])\n",
    "\n",
    "x_strings = data[0:4]\n",
    "y_strings = data[1:5]\n",
    "\n",
    "print(x_strings, y_strings)"
   ]
  },
  {
   "cell_type": "code",
   "execution_count": 4,
   "metadata": {},
   "outputs": [
    {
     "name": "stdout",
     "output_type": "stream",
     "text": [
      "[[1 2 1]\n",
      " [2 1 0]\n",
      " [1 0 3]\n",
      " [0 3 3]]\n",
      "[[[0 0 1 0 0]\n",
      "  [0 1 0 0 0]\n",
      "  [1 0 0 0 0]]\n",
      "\n",
      " [[0 1 0 0 0]\n",
      "  [1 0 0 0 0]\n",
      "  [0 0 0 1 0]]\n",
      "\n",
      " [[1 0 0 0 0]\n",
      "  [0 0 0 1 0]\n",
      "  [0 0 0 1 0]]\n",
      "\n",
      " [[0 0 0 1 0]\n",
      "  [0 0 0 1 0]\n",
      "  [0 0 0 0 1]]]\n"
     ]
    }
   ],
   "source": [
    "x_data = np.array(list(map(lambda strings : [char2idx.get(char) for char in strings], x_strings)))\n",
    "x_data = x_data.astype(np.int32)\n",
    "y_data = list(map(lambda strings : [char2idx.get(char) for char in strings], y_strings))\n",
    "y_data = np.array(list(map(lambda data : [to_categorical(token, len(char2idx))for token in data],y_data)))\n",
    "y_data = y_data.astype(np.int32)\n",
    "# data 형태확인\n",
    "print(x_data)\n",
    "print(y_data)"
   ]
  },
  {
   "cell_type": "code",
   "execution_count": 5,
   "metadata": {},
   "outputs": [
    {
     "name": "stdout",
     "output_type": "stream",
     "text": [
      "<BatchDataset shapes: ((?, 3), (?, 3, 5)), types: (tf.int32, tf.int32)>\n"
     ]
    }
   ],
   "source": [
    "# input\n",
    "tr_dataset = tf.data.Dataset.from_tensor_slices((x_data, y_data))\n",
    "tr_dataset = tr_dataset.shuffle(buffer_size=4)\n",
    "tr_dataset = tr_dataset.batch(batch_size = 2)\n",
    "\n",
    "print(tr_dataset)"
   ]
  },
  {
   "cell_type": "markdown",
   "metadata": {},
   "source": [
    "### Creating model"
   ]
  },
  {
   "cell_type": "code",
   "execution_count": 6,
   "metadata": {},
   "outputs": [],
   "source": [
    "num_classes = len(char2idx)\n",
    "hidden_dim = 10\n",
    "max_sequence = 3\n",
    "\n",
    "input_dim = len(char2idx)\n",
    "output_dim = len(char2idx)\n",
    "one_hot = np.eye(len(char2idx))\n",
    "\n",
    "model = keras.Sequential()\n",
    "model.add(keras.layers.InputLayer(input_shape=(max_sequence,)))\n",
    "model.add(keras.layers.Embedding(input_dim=input_dim, output_dim=output_dim,\n",
    "                                 trainable=False, input_length=max_sequence,\n",
    "                                 embeddings_initializer=keras.initializers.Constant(one_hot)))\n",
    "model.add(keras.layers.SimpleRNN(units=hidden_dim, return_sequences=True))\n",
    "model.add(keras.layers.TimeDistributed(keras.layers.Dense(units=num_classes)))"
   ]
  },
  {
   "cell_type": "code",
   "execution_count": 7,
   "metadata": {},
   "outputs": [
    {
     "name": "stdout",
     "output_type": "stream",
     "text": [
      "_________________________________________________________________\n",
      "Layer (type)                 Output Shape              Param #   \n",
      "=================================================================\n",
      "embedding (Embedding)        (None, 3, 5)              25        \n",
      "_________________________________________________________________\n",
      "simple_rnn (SimpleRNN)       (None, 3, 10)             160       \n",
      "_________________________________________________________________\n",
      "time_distributed (TimeDistri (None, 3, 5)              55        \n",
      "=================================================================\n",
      "Total params: 240\n",
      "Trainable params: 215\n",
      "Non-trainable params: 25\n",
      "_________________________________________________________________\n"
     ]
    }
   ],
   "source": [
    "model.summary()"
   ]
  },
  {
   "cell_type": "markdown",
   "metadata": {},
   "source": [
    "### Training model"
   ]
  },
  {
   "cell_type": "code",
   "execution_count": 8,
   "metadata": {},
   "outputs": [],
   "source": [
    "def loss_fn(model, x, y):\n",
    "    return tf.losses.softmax_cross_entropy(onehot_labels=y, logits=model(x))\n",
    "\n",
    "lr = 0.1\n",
    "epochs = 30\n",
    "opt = tf.train.AdamOptimizer(learning_rate = lr)"
   ]
  },
  {
   "cell_type": "code",
   "execution_count": 9,
   "metadata": {},
   "outputs": [
    {
     "name": "stdout",
     "output_type": "stream",
     "text": [
      "epoch :   1, tr_loss : 1.830\n",
      "epoch :   2, tr_loss : 0.926\n",
      "epoch :   3, tr_loss : 0.609\n",
      "epoch :   4, tr_loss : 0.392\n",
      "epoch :   5, tr_loss : 0.257\n",
      "epoch :   6, tr_loss : 0.183\n",
      "epoch :   7, tr_loss : 0.179\n",
      "epoch :   8, tr_loss : 0.162\n",
      "epoch :   9, tr_loss : 0.142\n",
      "epoch :  10, tr_loss : 0.149\n",
      "epoch :  11, tr_loss : 0.127\n",
      "epoch :  12, tr_loss : 0.138\n",
      "epoch :  13, tr_loss : 0.134\n",
      "epoch :  14, tr_loss : 0.132\n",
      "epoch :  15, tr_loss : 0.135\n",
      "epoch :  16, tr_loss : 0.119\n",
      "epoch :  17, tr_loss : 0.131\n",
      "epoch :  18, tr_loss : 0.119\n",
      "epoch :  19, tr_loss : 0.123\n",
      "epoch :  20, tr_loss : 0.117\n",
      "epoch :  21, tr_loss : 0.125\n",
      "epoch :  22, tr_loss : 0.135\n",
      "epoch :  23, tr_loss : 0.136\n",
      "epoch :  24, tr_loss : 0.124\n",
      "epoch :  25, tr_loss : 0.117\n",
      "epoch :  26, tr_loss : 0.117\n",
      "epoch :  27, tr_loss : 0.128\n",
      "epoch :  28, tr_loss : 0.117\n",
      "epoch :  29, tr_loss : 0.117\n",
      "epoch :  30, tr_loss : 0.129\n"
     ]
    }
   ],
   "source": [
    "for epoch in range(epochs):\n",
    "    avg_tr_loss = 0\n",
    "    tr_step = 0\n",
    "    \n",
    "    for x_mb, y_mb in tr_dataset:\n",
    "        with tf.GradientTape() as tape:\n",
    "            tr_loss = loss_fn(model, x=x_mb, y=y_mb)\n",
    "        grads = tape.gradient(target=tr_loss, sources=model.variables)\n",
    "        opt.apply_gradients(grads_and_vars=zip(grads, model.variables))\n",
    "        avg_tr_loss += tr_loss\n",
    "        tr_step += 1\n",
    "    else:\n",
    "        avg_tr_loss /= tr_step\n",
    "    \n",
    "    print('epoch : {:3}, tr_loss : {:.3f}'.format(epoch + 1, avg_tr_loss))"
   ]
  },
  {
   "cell_type": "markdown",
   "metadata": {},
   "source": [
    "### Checking performance"
   ]
  },
  {
   "cell_type": "code",
   "execution_count": 10,
   "metadata": {},
   "outputs": [
    {
     "name": "stdout",
     "output_type": "stream",
     "text": [
      "[[0 1 0]\n",
      " [1 0 3]\n",
      " [0 3 3]\n",
      " [3 3 4]]\n"
     ]
    }
   ],
   "source": [
    "yhat = model.predict(np.array(x_data))\n",
    "yhat = np.argmax(yhat, axis=-1)\n",
    "print(yhat)"
   ]
  },
  {
   "cell_type": "code",
   "execution_count": 11,
   "metadata": {},
   "outputs": [
    {
     "name": "stdout",
     "output_type": "stream",
     "text": [
      "[[2 1 0]\n",
      " [1 0 3]\n",
      " [0 3 3]\n",
      " [3 3 4]]\n"
     ]
    }
   ],
   "source": [
    "ytrue = np.argmax(y_data, axis = -1)\n",
    "print(ytrue)"
   ]
  },
  {
   "cell_type": "code",
   "execution_count": 12,
   "metadata": {},
   "outputs": [
    {
     "name": "stdout",
     "output_type": "stream",
     "text": [
      "acc : 75.00%\n"
     ]
    }
   ],
   "source": [
    "print('acc : {:.2%}'.format(np.mean(np.apply_along_axis(lambda row: all(row),-1, yhat == ytrue))))"
   ]
  }
 ],
 "metadata": {
  "kernelspec": {
   "display_name": "Python 3",
   "language": "python",
   "name": "python3"
  },
  "language_info": {
   "codemirror_mode": {
    "name": "ipython",
    "version": 3
   },
   "file_extension": ".py",
   "mimetype": "text/x-python",
   "name": "python",
   "nbconvert_exporter": "python",
   "pygments_lexer": "ipython3",
   "version": "3.6.8"
  }
 },
 "nbformat": 4,
 "nbformat_minor": 2
}
