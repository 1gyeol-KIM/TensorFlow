{
 "cells": [
  {
   "cell_type": "markdown",
   "metadata": {},
   "source": [
    "# Lab 06 Softmax Zoo_classifier-eager\n",
    "\n",
    "* Softmax를 사용하여 Zoo 데이터를 활용하여 분류를 진행합니다.\n",
    "\n",
    "### 기본 Library 선언 및 Tensorflow 버전 확인"
   ]
  },
  {
   "cell_type": "code",
   "execution_count": 1,
   "metadata": {
    "scrolled": true
   },
   "outputs": [],
   "source": [
    "import tensorflow as tf\n",
    "import numpy as np\n",
    "tf.enable_eager_execution()\n",
    "tf.set_random_seed(777)  # for reproducibility\n",
    "tfe = tf.contrib.eager"
   ]
  },
  {
   "cell_type": "code",
   "execution_count": 2,
   "metadata": {},
   "outputs": [
    {
     "name": "stdout",
     "output_type": "stream",
     "text": [
      "(101, 16) (101, 1)\n"
     ]
    }
   ],
   "source": [
    "xy = np.loadtxt('data-04-zoo.csv', delimiter=',', dtype=np.float32)\n",
    "x_data = xy[:, 0:-1]\n",
    "y_data = xy[:, [-1]]\n",
    "\n",
    "print(x_data.shape, y_data.shape)\n",
    "\n",
    "nb_classes = 7  # 0 ~ 6\n",
    "\n",
    "# Make Y data as onehot shape\n",
    "Y_one_hot = tf.one_hot(list(y_data), nb_classes)\n",
    "Y_one_hot = tf.reshape(Y_one_hot, [-1, nb_classes])"
   ]
  },
  {
   "cell_type": "code",
   "execution_count": 3,
   "metadata": {},
   "outputs": [],
   "source": [
    "class softmax_classifer(tf.keras.Model):\n",
    "    def __init__(self, nb_classes):\n",
    "        super(softmax_classifer, self).__init__()\n",
    "        self.W = tfe.Variable(tf.random_normal([16, nb_classes]), name='weight')\n",
    "        self.b = tfe.Variable(tf.random_normal([nb_classes]), name='bias')\n",
    "        \n",
    "    def softmax_regression(self, X):\n",
    "        # tf.nn.softmax computes softmax activations\n",
    "        # softmax = exp(logits) / reduce_sum(exp(logits), dim)\n",
    "        logits = tf.matmul(X, self.W) + self.b\n",
    "        return tf.nn.softmax(logits)\n",
    "    \n",
    "    def loss_fn(self, X, Y):\n",
    "        logits = self.softmax_regression(X)\n",
    "        cost_i = tf.nn.softmax_cross_entropy_with_logits_v2(logits=logits,\n",
    "                                                           labels=tf.stop_gradient([Y]))\n",
    "        return cost_i\n",
    "    \n",
    "    def grad_fn(self, X, Y):\n",
    "        with tf.GradientTape() as tape:\n",
    "            loss = self.loss_fn(X, Y)\n",
    "            grads = tape.gradient(loss, self.variables)\n",
    "            \n",
    "            return grads\n",
    "    \n",
    "    def prediction(self, X, Y):\n",
    "        pred = tf.argmax(self.softmax_regression(X), 1)\n",
    "        correct_prediction = tf.equal(pred, tf.argmax(Y, 1))\n",
    "        accuracy = tf.reduce_mean(tf.cast(correct_prediction, tf.float32))\n",
    "        \n",
    "        return accuracy\n",
    "    \n",
    "    def fit(self, X, Y, epochs=500, verbose=50):\n",
    "        optimizer =  tf.train.GradientDescentOptimizer(learning_rate=0.1)\n",
    "        \n",
    "        for i in range(epochs):\n",
    "            grads = self.grad_fn(X, Y)\n",
    "            optimizer.apply_gradients(zip(grads, self.variables))\n",
    "            if (i==0) | ((i+1)%verbose==0):\n",
    "                acc = self.prediction(X, Y).numpy()\n",
    "                loss = tf.reduce_sum(self.loss_fn(X, Y)).numpy()\n",
    "                \n",
    "                print('Loss & Acc at {} epoch {}, {}'.format(i+1, loss, acc))"
   ]
  },
  {
   "cell_type": "code",
   "execution_count": 4,
   "metadata": {},
   "outputs": [],
   "source": [
    "optimizer = tf.train.GradientDescentOptimizer(learning_rate=0.1)\n",
    "model = softmax_classifer(nb_classes)"
   ]
  },
  {
   "cell_type": "code",
   "execution_count": 5,
   "metadata": {},
   "outputs": [
    {
     "name": "stdout",
     "output_type": "stream",
     "text": [
      "Loss & Acc at 1 epoch 171.73199462890625, 0.5247524976730347\n",
      "Loss & Acc at 100 epoch 137.53741455078125, 0.801980197429657\n",
      "Loss & Acc at 200 epoch 137.0464630126953, 0.801980197429657\n",
      "Loss & Acc at 300 epoch 136.9971923828125, 0.801980197429657\n",
      "Loss & Acc at 400 epoch 127.19586181640625, 0.9108911156654358\n",
      "Loss & Acc at 500 epoch 126.92327880859375, 0.9108911156654358\n",
      "Loss & Acc at 600 epoch 126.18059539794922, 0.9207921028137207\n",
      "Loss & Acc at 700 epoch 125.96715545654297, 0.9207921028137207\n",
      "Loss & Acc at 800 epoch 125.9014663696289, 0.9207921028137207\n",
      "Loss & Acc at 900 epoch 125.86519622802734, 0.9207921028137207\n",
      "Loss & Acc at 1000 epoch 125.84115600585938, 0.9207921028137207\n"
     ]
    }
   ],
   "source": [
    "model.fit(x_data, Y_one_hot)"
   ]
  },
  {
   "cell_type": "code",
   "execution_count": null,
   "metadata": {},
   "outputs": [],
   "source": []
  }
 ],
 "metadata": {
  "kernelspec": {
   "display_name": "Python 3",
   "language": "python",
   "name": "python3"
  },
  "language_info": {
   "codemirror_mode": {
    "name": "ipython",
    "version": 3
   },
   "file_extension": ".py",
   "mimetype": "text/x-python",
   "name": "python",
   "nbconvert_exporter": "python",
   "pygments_lexer": "ipython3",
   "version": "3.6.5"
  }
 },
 "nbformat": 4,
 "nbformat_minor": 2
}
