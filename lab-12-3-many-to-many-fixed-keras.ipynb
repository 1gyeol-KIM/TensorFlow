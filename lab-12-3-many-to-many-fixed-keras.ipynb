{
 "cells": [
  {
   "cell_type": "markdown",
   "metadata": {},
   "source": [
    "# Lab 12-3 many to many fixed\n",
    "### hihello training \n",
    "* many to many\n",
    "* fixed input sequence length"
   ]
  },
  {
   "cell_type": "code",
   "execution_count": 1,
   "metadata": {},
   "outputs": [
    {
     "name": "stdout",
     "output_type": "stream",
     "text": [
      "1.12.0\n"
     ]
    }
   ],
   "source": [
    "import numpy as np\n",
    "import tensorflow as tf\n",
    "from tensorflow import keras\n",
    "from tensorflow.keras.utils import to_categorical\n",
    "from pprint import pprint\n",
    "\n",
    "print(tf.__version__)"
   ]
  },
  {
   "cell_type": "markdown",
   "metadata": {},
   "source": [
    "### Prepairing dataset\n",
    "hih -> ihe, ihe -> hel, hel -> ell, ell -> llo"
   ]
  },
  {
   "cell_type": "code",
   "execution_count": 2,
   "metadata": {},
   "outputs": [],
   "source": [
    "strings = 'hihello'\n",
    "char_set = sorted(list(set('hihello' + 'hello')))\n",
    "idx2char = {idx : char for idx, char in enumerate(char_set)}\n",
    "char2idx = {char : idx for idx, char in enumerate(char_set)}"
   ]
  },
  {
   "cell_type": "code",
   "execution_count": 3,
   "metadata": {},
   "outputs": [
    {
     "name": "stdout",
     "output_type": "stream",
     "text": [
      "['hih', 'ihe', 'hel', 'ell'] ['ihe', 'hel', 'ell', 'llo']\n"
     ]
    }
   ],
   "source": [
    "data = []\n",
    "for i in range(len(strings) -2):\n",
    "    data.append(strings[i:i+3])\n",
    "\n",
    "x_strings = data[0:4]\n",
    "y_strings = data[1:5]\n",
    "\n",
    "print(x_strings, y_strings)"
   ]
  },
  {
   "cell_type": "code",
   "execution_count": 4,
   "metadata": {},
   "outputs": [
    {
     "name": "stdout",
     "output_type": "stream",
     "text": [
      "[[1 2 1]\n",
      " [2 1 0]\n",
      " [1 0 3]\n",
      " [0 3 3]]\n",
      "[[[0. 0. 1. 0. 0.]\n",
      "  [0. 1. 0. 0. 0.]\n",
      "  [1. 0. 0. 0. 0.]]\n",
      "\n",
      " [[0. 1. 0. 0. 0.]\n",
      "  [1. 0. 0. 0. 0.]\n",
      "  [0. 0. 0. 1. 0.]]\n",
      "\n",
      " [[1. 0. 0. 0. 0.]\n",
      "  [0. 0. 0. 1. 0.]\n",
      "  [0. 0. 0. 1. 0.]]\n",
      "\n",
      " [[0. 0. 0. 1. 0.]\n",
      "  [0. 0. 0. 1. 0.]\n",
      "  [0. 0. 0. 0. 1.]]]\n"
     ]
    }
   ],
   "source": [
    "x_data = np.array(list(map(lambda strings : [char2idx.get(char) for char in strings], x_strings)))\n",
    "x_data_len = np.array(list(map(lambda strings : len(strings), x_strings))).astype(np.int32)\n",
    "x_data = x_data.astype(np.int32)\n",
    "y_data = list(map(lambda strings : [char2idx.get(char) for char in strings], y_strings))\n",
    "y_data = np.array(list(map(lambda data : [to_categorical(token, len(char2idx))for token in data],y_data)))\n",
    "\n",
    "# data 형태확인\n",
    "print(x_data)\n",
    "print(y_data)\n",
    "# print(x_data_len)"
   ]
  },
  {
   "cell_type": "code",
   "execution_count": 5,
   "metadata": {},
   "outputs": [
    {
     "name": "stdout",
     "output_type": "stream",
     "text": [
      "<RepeatDataset shapes: ((?, 3), (?, 3, 5)), types: (tf.int32, tf.float32)>\n"
     ]
    }
   ],
   "source": [
    "# input\n",
    "tr_dataset = tf.data.Dataset.from_tensor_slices((x_data, y_data))\n",
    "tr_dataset = tr_dataset.batch(batch_size = 2).repeat()\n",
    "\n",
    "print(tr_dataset)"
   ]
  },
  {
   "cell_type": "markdown",
   "metadata": {},
   "source": [
    "### Creating model"
   ]
  },
  {
   "cell_type": "code",
   "execution_count": 6,
   "metadata": {},
   "outputs": [],
   "source": [
    "num_classes = len(char2idx)\n",
    "hidden_dim = 10\n",
    "max_sequence = 3\n",
    "\n",
    "input_dim = len(char2idx)\n",
    "output_dim = len(char2idx)\n",
    "one_hot = np.eye(len(char2idx))\n",
    "\n",
    "model = keras.Sequential()\n",
    "model.add(keras.layers.Embedding(input_dim=input_dim, output_dim=output_dim,\n",
    "                                 trainable=False, input_length=max_sequence,\n",
    "                                 embeddings_initializer=keras.initializers.Constant(one_hot)))\n",
    "model.add(keras.layers.SimpleRNN(units=hidden_dim, return_sequences=True))\n",
    "model.add(keras.layers.TimeDistributed(keras.layers.Dense(units=num_classes, activation='softmax')))"
   ]
  },
  {
   "cell_type": "code",
   "execution_count": 7,
   "metadata": {},
   "outputs": [
    {
     "name": "stdout",
     "output_type": "stream",
     "text": [
      "_________________________________________________________________\n",
      "Layer (type)                 Output Shape              Param #   \n",
      "=================================================================\n",
      "embedding (Embedding)        (None, 3, 5)              25        \n",
      "_________________________________________________________________\n",
      "simple_rnn (SimpleRNN)       (None, 3, 10)             160       \n",
      "_________________________________________________________________\n",
      "time_distributed (TimeDistri (None, 3, 5)              55        \n",
      "=================================================================\n",
      "Total params: 240\n",
      "Trainable params: 215\n",
      "Non-trainable params: 25\n",
      "_________________________________________________________________\n"
     ]
    }
   ],
   "source": [
    "model.summary()"
   ]
  },
  {
   "cell_type": "markdown",
   "metadata": {},
   "source": [
    "### Training model"
   ]
  },
  {
   "cell_type": "code",
   "execution_count": 8,
   "metadata": {},
   "outputs": [],
   "source": [
    "def sequence_loss(y_true, y_pred):\n",
    "    time_step_loss = keras.losses.categorical_crossentropy(y_true=y_true, y_pred=y_pred)\n",
    "    return tf.reduce_mean(time_step_loss)"
   ]
  },
  {
   "cell_type": "code",
   "execution_count": 9,
   "metadata": {},
   "outputs": [],
   "source": [
    "# Creating a training operation\n",
    "lr = .1\n",
    "opt = tf.train.AdamOptimizer(learning_rate = lr)\n",
    "model.compile(optimizer=opt,\n",
    "              loss=sequence_loss)"
   ]
  },
  {
   "cell_type": "code",
   "execution_count": 10,
   "metadata": {},
   "outputs": [
    {
     "name": "stdout",
     "output_type": "stream",
     "text": [
      "Epoch 1/30\n",
      "2/2 [==============================] - 0s 141ms/step - loss: 1.6664\n",
      "Epoch 2/30\n",
      "2/2 [==============================] - 0s 5ms/step - loss: 0.8455\n",
      "Epoch 3/30\n",
      "2/2 [==============================] - 0s 5ms/step - loss: 0.5067\n",
      "Epoch 4/30\n",
      "2/2 [==============================] - 0s 4ms/step - loss: 0.2949\n",
      "Epoch 5/30\n",
      "2/2 [==============================] - 0s 5ms/step - loss: 0.2067\n",
      "Epoch 6/30\n",
      "2/2 [==============================] - 0s 3ms/step - loss: 0.1747\n",
      "Epoch 7/30\n",
      "2/2 [==============================] - 0s 4ms/step - loss: 0.1581\n",
      "Epoch 8/30\n",
      "2/2 [==============================] - 0s 4ms/step - loss: 0.1463\n",
      "Epoch 9/30\n",
      "2/2 [==============================] - 0s 3ms/step - loss: 0.1370\n",
      "Epoch 10/30\n",
      "2/2 [==============================] - 0s 4ms/step - loss: 0.1300\n",
      "Epoch 11/30\n",
      "2/2 [==============================] - 0s 4ms/step - loss: 0.1257\n",
      "Epoch 12/30\n",
      "2/2 [==============================] - 0s 3ms/step - loss: 0.1242\n",
      "Epoch 13/30\n",
      "2/2 [==============================] - 0s 4ms/step - loss: 0.1246\n",
      "Epoch 14/30\n",
      "2/2 [==============================] - 0s 4ms/step - loss: 0.1254\n",
      "Epoch 15/30\n",
      "2/2 [==============================] - 0s 3ms/step - loss: 0.1257\n",
      "Epoch 16/30\n",
      "2/2 [==============================] - 0s 3ms/step - loss: 0.1253\n",
      "Epoch 17/30\n",
      "2/2 [==============================] - 0s 4ms/step - loss: 0.1245\n",
      "Epoch 18/30\n",
      "2/2 [==============================] - 0s 3ms/step - loss: 0.1234\n",
      "Epoch 19/30\n",
      "2/2 [==============================] - 0s 4ms/step - loss: 0.1224\n",
      "Epoch 20/30\n",
      "2/2 [==============================] - 0s 5ms/step - loss: 0.1217\n",
      "Epoch 21/30\n",
      "2/2 [==============================] - 0s 4ms/step - loss: 0.1216\n",
      "Epoch 22/30\n",
      "2/2 [==============================] - 0s 4ms/step - loss: 0.1219\n",
      "Epoch 23/30\n",
      "2/2 [==============================] - 0s 3ms/step - loss: 0.1224\n",
      "Epoch 24/30\n",
      "2/2 [==============================] - 0s 5ms/step - loss: 0.1227\n",
      "Epoch 25/30\n",
      "2/2 [==============================] - 0s 3ms/step - loss: 0.1227\n",
      "Epoch 26/30\n",
      "2/2 [==============================] - 0s 5ms/step - loss: 0.1225\n",
      "Epoch 27/30\n",
      "2/2 [==============================] - 0s 3ms/step - loss: 0.1221\n",
      "Epoch 28/30\n",
      "2/2 [==============================] - 0s 4ms/step - loss: 0.1218\n",
      "Epoch 29/30\n",
      "2/2 [==============================] - 0s 4ms/step - loss: 0.1215\n",
      "Epoch 30/30\n",
      "2/2 [==============================] - 0s 4ms/step - loss: 0.1214\n"
     ]
    },
    {
     "data": {
      "text/plain": [
       "<tensorflow.python.keras.callbacks.History at 0x7f1741139f60>"
      ]
     },
     "execution_count": 10,
     "metadata": {},
     "output_type": "execute_result"
    }
   ],
   "source": [
    "model.fit(tr_dataset, epochs=30, steps_per_epoch=4//2, verbose=1)"
   ]
  },
  {
   "cell_type": "markdown",
   "metadata": {},
   "source": [
    "### Checking performance"
   ]
  },
  {
   "cell_type": "code",
   "execution_count": 11,
   "metadata": {},
   "outputs": [
    {
     "name": "stdout",
     "output_type": "stream",
     "text": [
      "[[0 1 0]\n",
      " [1 0 3]\n",
      " [0 3 3]\n",
      " [3 3 4]]\n"
     ]
    }
   ],
   "source": [
    "yhat = model.predict(x_data)\n",
    "yhat = np.argmax(yhat, axis=-1)\n",
    "print(yhat)"
   ]
  },
  {
   "cell_type": "code",
   "execution_count": 12,
   "metadata": {},
   "outputs": [
    {
     "name": "stdout",
     "output_type": "stream",
     "text": [
      "[[2 1 0]\n",
      " [1 0 3]\n",
      " [0 3 3]\n",
      " [3 3 4]]\n"
     ]
    }
   ],
   "source": [
    "ytrue = np.argmax(y_data, axis = -1)\n",
    "print(ytrue)"
   ]
  }
 ],
 "metadata": {
  "kernelspec": {
   "display_name": "Python 3",
   "language": "python",
   "name": "python3"
  },
  "language_info": {
   "codemirror_mode": {
    "name": "ipython",
    "version": 3
   },
   "file_extension": ".py",
   "mimetype": "text/x-python",
   "name": "python",
   "nbconvert_exporter": "python",
   "pygments_lexer": "ipython3",
   "version": "3.6.8"
  }
 },
 "nbformat": 4,
 "nbformat_minor": 2
}
